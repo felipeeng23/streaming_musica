{
  "nbformat": 4,
  "nbformat_minor": 0,
  "metadata": {
    "colab": {
      "provenance": [],
      "authorship_tag": "ABX9TyPYvCkk0+WfEf9KPThPqnDV",
      "include_colab_link": true
    },
    "kernelspec": {
      "name": "python3",
      "display_name": "Python 3"
    },
    "language_info": {
      "name": "python"
    }
  },
  "cells": [
    {
      "cell_type": "markdown",
      "metadata": {
        "id": "view-in-github",
        "colab_type": "text"
      },
      "source": [
        "<a href=\"https://colab.research.google.com/github/felipeeng23/streaming_musica/blob/main/streaming_de_musica.ipynb\" target=\"_parent\"><img src=\"https://colab.research.google.com/assets/colab-badge.svg\" alt=\"Open In Colab\"/></a>"
      ]
    },
    {
      "cell_type": "code",
      "execution_count": null,
      "metadata": {
        "id": "h_KsiFJm68my"
      },
      "outputs": [],
      "source": [
        "'''\n",
        "create database streaming_musica;\n",
        "\n",
        "#tabela usuarios\n",
        "create table usuarios(\n",
        "    id INT PRIMARY KEY AUTO_INCREMENT,\n",
        "    nome VARCHAR(100) NOT NULL,\n",
        "    email VARCHAR(100) UNIQUE NOT NULL,\n",
        "    senha VARCHAR(255) NOT NULL\n",
        ");\n",
        "\n",
        "#tabela artistas\n",
        "create table artistas(\n",
        "    id INT PRIMARY KEY AUTO_INCREMENT,\n",
        "    nome VARCHAR(100) NOT NULL,\n",
        "    genero VARCHAR(50) NOT NULL\n",
        ");\n",
        "\n",
        "#tabela álbuns\n",
        "create table albuns(\n",
        "    id INT PRIMARY KEY AUTO_INCREMENT,\n",
        "    nome VARCHAR(100) NOT NULL,\n",
        "    artista_id INT NOT NULL,\n",
        "    ano_lancamento YEAR NOT NULL,\n",
        "    FOREIGN KEY (artista_id) REFERENCES artistas(id) ON DELETE CASCADE\n",
        ");\n",
        "\n",
        "#tabela musicas\n",
        "create table musicas(\n",
        "    id INT PRIMARY KEY AUTO_INCREMENT,\n",
        "    nome VARCHAR(100) NOT NULL,\n",
        "    album_id INT NOT NULL,\n",
        "    duracao TIME NOT NULL,\n",
        "    FOREIGN KEY (album_id) REFERENCES albuns(id) ON DELETE CASCADE\n",
        ");\n",
        "\n",
        "#tabela playlists\n",
        "create table playlists(\n",
        "    id INT PRIMARY KEY AUTO_INCREMENT,\n",
        "    usuario_id INT NOT NULL,\n",
        "    nome VARCHAR(100) NOT NULL,\n",
        "    FOREIGN KEY (usuario_id) REFERENCES usuarios(id) ON DELETE CASCADE\n",
        ");\n",
        "\n",
        "#tabela playlist_musicas\n",
        "create table playlist_musicas(\n",
        "    id INT PRIMARY KEY AUTO_INCREMENT,\n",
        "    playlist_id INT NOT NULL,\n",
        "    musica_id INT NOT NULL,\n",
        "    FOREIGN KEY (playlist_id) REFERENCES playlists(id) ON DELETE CASCADE,\n",
        "    FOREIGN KEY (musica_id) REFERENCES musicas(id) ON DELETE CASCADE\n",
        ");\n"
      ]
    }
  ]
}